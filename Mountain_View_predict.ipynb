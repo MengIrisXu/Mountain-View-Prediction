{
 "cells": [
  {
   "cell_type": "code",
   "execution_count": 1,
   "metadata": {},
   "outputs": [],
   "source": [
    "import cv2\n",
    "import os \n",
    "import numpy as np\n",
    "from matplotlib import pyplot as plt\n",
    "\n",
    "def rgb2gray(rgb):\n",
    "    return np.dot(rgb[...,:3], [1/3, 1/3, 1/3])"
   ]
  },
  {
   "cell_type": "code",
   "execution_count": null,
   "metadata": {},
   "outputs": [],
   "source": [
    "def get_pics_edges(video_dir,video_name):\n",
    "    vidcap = cv2.VideoCapture(video_dir)\n",
    "    success,image = vidcap.read()\n",
    "    ####edges = cv2.Canny(image,0,1008,L2gradient = True)\n",
    "\n",
    "    #plt.subplot(121),plt.imshow(image,cmap = 'gray')\n",
    "    #plt.title('Original Image'), plt.xticks([]), plt.yticks([])\n",
    "    #plt.subplot(122),plt.imshow(edges,cmap = 'gray')\n",
    "    #plt.title('Edge Image'), plt.xticks([]), plt.yticks([])\n",
    "\n",
    "\n",
    "    #fig_size = plt.rcParams[\"figure.figsize\"]\n",
    "    #fig_size[0] = 50\n",
    "    #fig_size[1] = 50\n",
    "    #plt.rcParams[\"figure.figsize\"] = fig_size\n",
    "    #plt.show()\n",
    "    os.mkdir(video_name+\"_frames\")\n",
    "    path=\"Final_project/\"+video_name+\"_frames\"\n",
    "    print(\"Store into path:\"+path)\n",
    "    count = 0\n",
    "    while success:\n",
    "            cv2.imwrite(os.path.join(path , \"frame%d.jpg\") % count, image)     # save frame as JPEG file \n",
    "            ####edges = cv2.Canny(image,0,1008,L2gradient = True)\n",
    "            #print(edges)\n",
    "            #plt.subplot(121),plt.imshow(image,cmap = 'gray')\n",
    "            #plt.title('Original Image'), plt.xticks([]), plt.yticks([])\n",
    "            #plt.subplot(122),plt.imshow(edges,cmap = 'gray')\n",
    "            #plt.title('Edge Image'), plt.xticks([]), plt.yticks([])\n",
    "\n",
    "\n",
    "            #fig_size = plt.rcParams[\"figure.figsize\"]\n",
    "            #fig_size[0] = 50\n",
    "            #fig_size[1] = 50\n",
    "            #plt.rcParams[\"figure.figsize\"] = fig_size\n",
    "            #plt.show()\n",
    "            success,image = vidcap.read()\n",
    "            print('Read a new frame: ', success)\n",
    "            count += 1"
   ]
  },
  {
   "cell_type": "code",
   "execution_count": null,
   "metadata": {
    "scrolled": true
   },
   "outputs": [],
   "source": [
    "#put each frame of the video into a picture\n",
    "\n",
    "for filename in os.listdir('videos'):\n",
    "    print(filename)\n",
    "    path='videos/'+filename\n",
    "    files = [ fname for fname in os.listdir(path) if fname.endswith('.mp4')]\n",
    "    print(files)\n",
    "    path=path+'/'+files[0]\n",
    "    print(path)\n",
    "    vid_name=filename.split(\"_\")[0]\n",
    "    print(vid_name)\n",
    "    get_pics_edges(path,vid_name)"
   ]
  },
  {
   "cell_type": "code",
   "execution_count": null,
   "metadata": {},
   "outputs": [],
   "source": [
    "def get_edges(video_dir,folder_name,lower,upper):\n",
    "    \n",
    "    os.mkdir(folder_name+\"_frames\")\n",
    "    vidcap = cv2.VideoCapture(video_dir)\n",
    "    success,image = vidcap.read()\n",
    "    edges = cv2.Canny(image,lower,upper,L2gradient = True)\n",
    "    image=rgb2gray(image)\n",
    "    \n",
    "    edges=edges.T\n",
    "    image=image.T\n",
    "    for i in range(len(edges)):        \n",
    "        if len(np.nonzero(edges[i])[0])==0:\n",
    "            image[i][:]= [0] \n",
    "        else:\n",
    "            image[i][:np.nonzero(edges[i])[0][0]]= [0] * np.nonzero(edges[i])[0][0] \n",
    "    edges=edges.T\n",
    "    image=image.T\n",
    "    \n",
    "    #plt.subplot(121),plt.imshow(image,cmap = 'gray')\n",
    "    #plt.title('Original Image'), plt.xticks([]), plt.yticks([])\n",
    "    #plt.subplot(122),plt.imshow(edges,cmap = 'gray')\n",
    "    #plt.title('Edge Image'), plt.xticks([]), plt.yticks([])\n",
    "\n",
    "\n",
    "    #fig_size = plt.rcParams[\"figure.figsize\"]\n",
    "    #fig_size[0] = 50\n",
    "    #fig_size[1] = 50\n",
    "    #plt.rcParams[\"figure.figsize\"] = fig_size\n",
    "    #plt.show()\n",
    "\n",
    "    path=\"C:/Users/Jason/Anaconda3/Deep_learning/Final_project/\"+folder_name+\"_frames\"\n",
    "    count = 0\n",
    "    while success:\n",
    "            cv2.imwrite(os.path.join(path , \"frame%d.jpg\") % count, image)     # save frame as JPEG file         \n",
    "            success,image = vidcap.read()\n",
    "            edges = cv2.Canny(image,lower,upper,L2gradient = True)\n",
    "            #print(edges)\n",
    "            image=rgb2gray(image)\n",
    "            \n",
    "            edges=edges.T\n",
    "            image=image.T\n",
    "            for i in range(len(edges)):        \n",
    "                if len(np.nonzero(edges[i])[0])==0:\n",
    "                    image[i][:]= [0] \n",
    "                else:\n",
    "                    image[i][:np.nonzero(edges[i])[0][0]]= [0] * np.nonzero(edges[i])[0][0] \n",
    "            edges=edges.T\n",
    "            image=image.T\n",
    "            \n",
    "            #plt.subplot(121),plt.imshow(image,cmap = 'gray')\n",
    "            #plt.title('Original Image'), plt.xticks([]), plt.yticks([])\n",
    "            #plt.subplot(122),plt.imshow(edges,cmap = 'gray')\n",
    "            #plt.title('Edge Image'), plt.xticks([]), plt.yticks([])\n",
    "\n",
    "            #fig_size = plt.rcParams[\"figure.figsize\"]\n",
    "            #fig_size[0] = 50\n",
    "            #fig_size[1] = 50\n",
    "            #plt.rcParams[\"figure.figsize\"] = fig_size\n",
    "            #plt.show()\n",
    "            print('Read a new frame: ', success)\n",
    "            count += 1"
   ]
  },
  {
   "cell_type": "code",
   "execution_count": null,
   "metadata": {
    "scrolled": true
   },
   "outputs": [],
   "source": [
    "new_path=\"videos/f2_20120708_130252_959/792224322803.mp4\"\n",
    "\n",
    "get_edges(new_path,\"f2\",50,300)"
   ]
  },
  {
   "cell_type": "code",
   "execution_count": null,
   "metadata": {
    "scrolled": true
   },
   "outputs": [],
   "source": [
    "new_path=\"videos/f1_20120708_150257_460/7996627276903.mp4\"\n",
    "\n",
    "get_edges(new_path,\"f1\",0,722)"
   ]
  },
  {
   "cell_type": "code",
   "execution_count": null,
   "metadata": {
    "scrolled": true
   },
   "outputs": [],
   "source": [
    "new_path=\"videos/f3_20120711_202017_736/104461926364.mp4\"\n",
    "get_edges(new_path,\"f3\",0,160)\n",
    "\n"
   ]
  },
  {
   "cell_type": "code",
   "execution_count": null,
   "metadata": {
    "scrolled": true
   },
   "outputs": [],
   "source": [
    "new_path=\"videos/f4_20120712_090239_834/1429366900512.mp4\"\n",
    "get_edges(new_path,\"f4\",0,500)\n",
    "\n"
   ]
  },
  {
   "cell_type": "code",
   "execution_count": null,
   "metadata": {
    "scrolled": true
   },
   "outputs": [],
   "source": [
    "new_path=\"videos/f5_20120716_131923_531/14254256701391.mp4\"\n",
    "get_edges(new_path,\"f5\",0,550)\n",
    "\n"
   ]
  },
  {
   "cell_type": "code",
   "execution_count": null,
   "metadata": {
    "scrolled": true
   },
   "outputs": [],
   "source": [
    "new_path=\"videos/f6_20120718_105805_430/11532517773672.mp4\"\n",
    "get_edges(new_path,\"f6\",0,450)\n"
   ]
  },
  {
   "cell_type": "code",
   "execution_count": null,
   "metadata": {
    "scrolled": true
   },
   "outputs": [],
   "source": [
    "new_path=\"videos/j1_20120709_141010_409/13720717600034.mp4\"\n",
    "get_edges(new_path,\"j1\",0,515)\n"
   ]
  },
  {
   "cell_type": "code",
   "execution_count": null,
   "metadata": {
    "scrolled": true
   },
   "outputs": [],
   "source": [
    "new_path=\"videos/j2_20120708_150331_696/8030840655816.mp4\"\n",
    "get_edges(new_path,\"j2\",0,515)\n"
   ]
  },
  {
   "cell_type": "code",
   "execution_count": null,
   "metadata": {
    "scrolled": true
   },
   "outputs": [],
   "source": [
    "new_path=\"videos/j3_20120712_090348_410/1497988299434.mp4\"\n",
    "get_edges(new_path,\"j3\",0,650)\n"
   ]
  },
  {
   "cell_type": "code",
   "execution_count": null,
   "metadata": {
    "scrolled": true
   },
   "outputs": [],
   "source": [
    "new_path=\"videos/j4_20120716_073924_795/354324566808.mp4\"\n",
    "get_edges(new_path,\"j4\",0,300)\n"
   ]
  },
  {
   "cell_type": "code",
   "execution_count": null,
   "metadata": {
    "scrolled": true
   },
   "outputs": [],
   "source": [
    "new_path=\"videos/j5_20120716_132027_470/14318199450413.mp4\"\n",
    "get_edges(new_path,\"j5\",0,750)\n"
   ]
  },
  {
   "cell_type": "code",
   "execution_count": null,
   "metadata": {
    "scrolled": true
   },
   "outputs": [],
   "source": [
    "new_path=\"videos/j6_20120718_105747_346/11514487683338.mp4\"\n",
    "get_edges(new_path,\"j6\",0,40)\n"
   ]
  },
  {
   "cell_type": "code",
   "execution_count": null,
   "metadata": {},
   "outputs": [],
   "source": [
    "vidcap = cv2.VideoCapture(new_path)\n",
    "success,image = vidcap.read()\n",
    "edges = cv2.Canny(image,0,40,L2gradient = True)\n",
    "image=rgb2gray(image)\n",
    "\n",
    "#clean the skyline\n",
    "edges=edges.T\n",
    "image=image.T\n",
    "for i in range(len(edges)):\n",
    "    #print(np.nonzero(edges[i])[0])\n",
    "    if len(np.nonzero(edges[i])[0])==0:\n",
    "        image[i][:]= [0] \n",
    "    else:\n",
    "        image[i][:np.nonzero(edges[i])[0][0]]= [0] * np.nonzero(edges[i])[0][0] \n",
    "edges=edges.T\n",
    "image=image.T\n",
    "\n",
    "plt.subplot(121),plt.imshow(image,cmap = 'gray')\n",
    "plt.title('Original Image'), plt.xticks([]), plt.yticks([])\n",
    "plt.subplot(122),plt.imshow(edges,cmap = 'gray')\n",
    "plt.title('Edge Image'), plt.xticks([]), plt.yticks([])\n",
    "\n",
    "\n",
    "fig_size = plt.rcParams[\"figure.figsize\"]\n",
    "fig_size[0] = 50\n",
    "fig_size[1] = 50\n",
    "plt.rcParams[\"figure.figsize\"] = fig_size\n",
    "plt.show()"
   ]
  },
  {
   "cell_type": "code",
   "execution_count": null,
   "metadata": {},
   "outputs": [],
   "source": [
    "#path=\"C:/Users/Jason/Anaconda3/Deep_learning/Final_project/\"+video_name+\"frames\"\n",
    "count = 0\n",
    "while success:\n",
    "        #cv2.imwrite(os.path.join(path , \"frame%d.jpg\") % count, image)     # save frame as JPEG file         \n",
    "        success,image = vidcap.read()\n",
    "        edges = cv2.Canny(image,50,300,L2gradient = True)\n",
    "        #print(edges)\n",
    "        image=rgb2gray(image)\n",
    "        cv2.imshow('Original',image)\n",
    "        cv2.imshow('Edges',edges)\n",
    "        print('Read a new frame: ', success)\n",
    "        count += 1"
   ]
  },
  {
   "cell_type": "code",
   "execution_count": 2,
   "metadata": {},
   "outputs": [],
   "source": [
    "from PIL import Image"
   ]
  },
  {
   "cell_type": "code",
   "execution_count": 3,
   "metadata": {},
   "outputs": [],
   "source": [
    "def load_Img():\n",
    "    data = np.empty((3115,480,640),dtype=\"float32\")\n",
    "    label = np.empty((3115),dtype=\"uint8\")\n",
    "    n=0\n",
    "    for m in range(0,12):\n",
    "        #print(m)\n",
    "        imgs = os.listdir('/Users/xumeng/Desktop/Final_project/'+str(m+1)+'_frames')\n",
    "        imgNum = len(imgs)\n",
    "        print(imgNum)\n",
    "        for i in range (len(imgs)):\n",
    "            #print(i)\n",
    "            imagePath = \"/Users/xumeng/Desktop/Final_project/\"+str(m+1)+\"_frames/\"+imgs[i]\n",
    "            if imagePath == \"/Users/xumeng/Desktop/Final_project/\"+str(m+1)+\"_frames/.DS_Store\":\n",
    "                continue\n",
    "            img = Image.open(\"/Users/xumeng/Desktop/Final_project/\"+str(m+1)+\"_frames/\"+imgs[i])\n",
    "        \n",
    "        #images = np.frombuffer(imgzip.read(image_filename), dtype=np.uint8, offset=16).reshape(len(labels), 784)\n",
    "        \n",
    "            arr = np.asarray(img,dtype=\"float32\")\n",
    "            data[n,:,:]= arr\n",
    "            label[n] = np.array([[m]])\n",
    "            n+=1\n",
    "        \n",
    "    #print(label)\n",
    "    return data,label"
   ]
  },
  {
   "cell_type": "code",
   "execution_count": 4,
   "metadata": {},
   "outputs": [
    {
     "name": "stdout",
     "output_type": "stream",
     "text": [
      "267\n",
      "279\n",
      "226\n",
      "140\n",
      "309\n",
      "526\n",
      "144\n",
      "346\n",
      "188\n",
      "281\n",
      "198\n",
      "214\n"
     ]
    }
   ],
   "source": [
    "image, label = load_Img()"
   ]
  },
  {
   "cell_type": "code",
   "execution_count": null,
   "metadata": {
    "scrolled": false
   },
   "outputs": [],
   "source": [
    "#image"
   ]
  },
  {
   "cell_type": "code",
   "execution_count": null,
   "metadata": {
    "scrolled": false
   },
   "outputs": [],
   "source": [
    "#image[3117,:]"
   ]
  },
  {
   "cell_type": "code",
   "execution_count": 5,
   "metadata": {},
   "outputs": [
    {
     "data": {
      "text/plain": [
       "<matplotlib.image.AxesImage at 0x1ff0dffd0>"
      ]
     },
     "execution_count": 5,
     "metadata": {},
     "output_type": "execute_result"
    },
    {
     "data": {
      "image/png": "[encoded data removed]",
      "text/plain": [
       "<matplotlib.figure.Figure at 0x1f95886a0>"
      ]
     },
     "metadata": {
      "needs_background": "light"
     },
     "output_type": "display_data"
    }
   ],
   "source": [
    "#### import matplotlib.pyplot as plt\n",
    "plt.imshow(image[3114,:])"
   ]
  },
  {
   "cell_type": "code",
   "execution_count": 6,
   "metadata": {},
   "outputs": [
    {
     "name": "stderr",
     "output_type": "stream",
     "text": [
      "/Users/xumeng/anaconda3/lib/python3.6/site-packages/sklearn/cross_validation.py:41: DeprecationWarning: This module was deprecated in version 0.18 in favor of the model_selection module into which all the refactored classes and functions are moved. Also note that the interface of the new CV iterators are different from that of this module. This module will be removed in 0.20.\n",
      "  \"This module will be removed in 0.20.\", DeprecationWarning)\n"
     ]
    }
   ],
   "source": [
    "from sklearn.cross_validation import train_test_split"
   ]
  },
  {
   "cell_type": "code",
   "execution_count": 7,
   "metadata": {},
   "outputs": [],
   "source": [
    "seed = 100\n",
    "np.random.seed(seed)"
   ]
  },
  {
   "cell_type": "code",
   "execution_count": 36,
   "metadata": {},
   "outputs": [],
   "source": [
    "X_train, X_test, y_train, y_test = train_test_split(image,label, test_size = 0.2)"
   ]
  },
  {
   "cell_type": "code",
   "execution_count": 37,
   "metadata": {},
   "outputs": [
    {
     "data": {
      "text/plain": [
       "(2492, 480, 640)"
      ]
     },
     "execution_count": 37,
     "metadata": {},
     "output_type": "execute_result"
    }
   ],
   "source": [
    "X_train.shape"
   ]
  },
  {
   "cell_type": "code",
   "execution_count": 38,
   "metadata": {},
   "outputs": [],
   "source": [
    "import numpy as np\n",
    "from keras.datasets import mnist\n",
    "from keras.models import Sequential\n",
    "from keras.layers import Dense\n",
    "from keras.utils import np_utils"
   ]
  },
  {
   "cell_type": "code",
   "execution_count": 39,
   "metadata": {},
   "outputs": [],
   "source": [
    "num_of_pixels = X_train.shape[1]*X_train.shape[2]\n",
    "XTrain = X_train.reshape(X_train.shape[0],num_of_pixels).astype('float32')\n",
    "XTest = X_test.reshape(X_test.shape[0],num_of_pixels).astype('float32')"
   ]
  },
  {
   "cell_type": "code",
   "execution_count": 119,
   "metadata": {},
   "outputs": [],
   "source": [
    "num_of_pixels = X_train.shape[1]*X_train.shape[2]\n",
    "X1Train = X_train.reshape(X_train.shape[0],X_train.shape[1],X_train.shape[2],1).astype('float32')\n",
    "X1Test = X_test.reshape(X_test.shape[0],X_test.shape[1],X_test.shape[2],1).astype('float32')"
   ]
  },
  {
   "cell_type": "code",
   "execution_count": 40,
   "metadata": {},
   "outputs": [],
   "source": [
    "XTrain = (XTrain-np.min(XTrain))/(np.max(XTrain)-np.min(XTrain))\n",
    "XTest = (XTest-np.min(XTest))/(np.max(XTest)-np.min(XTest))\n",
    "class_names = np.unique(y_train)"
   ]
  },
  {
   "cell_type": "code",
   "execution_count": 41,
   "metadata": {},
   "outputs": [
    {
     "data": {
      "text/plain": [
       "array([ 0,  1,  2,  3,  4,  5,  6,  7,  8,  9, 10, 11], dtype=uint8)"
      ]
     },
     "execution_count": 41,
     "metadata": {},
     "output_type": "execute_result"
    }
   ],
   "source": [
    "class_names"
   ]
  },
  {
   "cell_type": "code",
   "execution_count": 121,
   "metadata": {},
   "outputs": [],
   "source": [
    "from keras.models import Sequential\n",
    "from keras.layers import Dense, Conv2D, Flatten\n",
    "#create model\n",
    "model1 = Sequential()\n",
    "#add model layers\n",
    "model1.add(Conv2D(64, kernel_size=3, activation='relu', input_shape=(480, 640,1)))\n",
    "model1.add(Conv2D(32, kernel_size=3, activation='relu'))\n",
    "model1.add(Flatten())\n",
    "model1.add(Dense(12, activation='softmax'))\n"
   ]
  },
  {
   "cell_type": "code",
   "execution_count": 122,
   "metadata": {},
   "outputs": [],
   "source": [
    "model1.compile(optimizer='adam', loss='categorical_crossentropy', metrics=['accuracy'])"
   ]
  },
  {
   "cell_type": "code",
   "execution_count": null,
   "metadata": {},
   "outputs": [
    {
     "name": "stdout",
     "output_type": "stream",
     "text": [
      "Epoch 1/5\n"
     ]
    }
   ],
   "source": [
    "model1.fit(X1Train, \n",
    "          yTrain,\n",
    "          epochs=5, \n",
    "          batch_size=623)"
   ]
  },
  {
   "cell_type": "code",
   "execution_count": 42,
   "metadata": {},
   "outputs": [],
   "source": [
    "yTrain = np_utils.to_categorical(y_train)\n",
    "yTest = np_utils.to_categorical(y_test)\n",
    "num_of_classes = yTest.shape[1]"
   ]
  },
  {
   "cell_type": "code",
   "execution_count": 43,
   "metadata": {},
   "outputs": [
    {
     "data": {
      "text/plain": [
       "12"
      ]
     },
     "execution_count": 43,
     "metadata": {},
     "output_type": "execute_result"
    }
   ],
   "source": [
    "num_of_classes"
   ]
  },
  {
   "cell_type": "code",
   "execution_count": 44,
   "metadata": {},
   "outputs": [],
   "source": [
    "from keras.models import Sequential\n",
    "from keras.layers import Dense\n",
    "import numpy\n"
   ]
  },
  {
   "cell_type": "code",
   "execution_count": 45,
   "metadata": {},
   "outputs": [],
   "source": [
    "model = Sequential()\n",
    "model.add(Dense(40, input_dim=307200, activation='relu'))\n",
    "model.add(Dense(20, activation='relu'))\n",
    "model.add(Dense(12, activation='sigmoid'))"
   ]
  },
  {
   "cell_type": "code",
   "execution_count": 46,
   "metadata": {},
   "outputs": [],
   "source": [
    "model.compile(loss='binary_crossentropy', optimizer='adam', metrics=['accuracy'])"
   ]
  },
  {
   "cell_type": "code",
   "execution_count": 47,
   "metadata": {},
   "outputs": [
    {
     "name": "stdout",
     "output_type": "stream",
     "text": [
      "Train on 2492 samples, validate on 623 samples\n",
      "Epoch 1/5\n",
      "2492/2492 [==============================] - 79s 32ms/step - loss: 2.1368 - acc: 0.5853 - val_loss: 1.4095 - val_acc: 0.7623\n",
      "Epoch 2/5\n",
      "2492/2492 [==============================] - 77s 31ms/step - loss: 1.2423 - acc: 0.8023 - val_loss: 0.9044 - val_acc: 0.8799\n",
      "Epoch 3/5\n",
      "2492/2492 [==============================] - 77s 31ms/step - loss: 0.8854 - acc: 0.8841 - val_loss: 0.7432 - val_acc: 0.9124\n",
      "Epoch 4/5\n",
      "2492/2492 [==============================] - 79s 32ms/step - loss: 0.7926 - acc: 0.9163 - val_loss: 0.7498 - val_acc: 0.9149\n",
      "Epoch 5/5\n",
      "2492/2492 [==============================] - 78s 31ms/step - loss: 0.7599 - acc: 0.9225 - val_loss: 0.6735 - val_acc: 0.9283\n"
     ]
    },
    {
     "data": {
      "text/plain": [
       "<keras.callbacks.History at 0x27a992908>"
      ]
     },
     "execution_count": 47,
     "metadata": {},
     "output_type": "execute_result"
    }
   ],
   "source": [
    "model.fit(XTrain, \n",
    "          yTrain,\n",
    "          validation_data=(XTest,yTest), \n",
    "          epochs=5, \n",
    "          batch_size=623)"
   ]
  },
  {
   "cell_type": "code",
   "execution_count": 48,
   "metadata": {},
   "outputs": [],
   "source": [
    "y_pred=model.predict(XTest)"
   ]
  },
  {
   "cell_type": "code",
   "execution_count": 101,
   "metadata": {},
   "outputs": [],
   "source": [
    "m=[]\n",
    "for i in range(len(y_pred)):\n",
    "    list_a = y_pred[i].tolist()\n",
    "    m.append(list_a.index(max(list_a)))"
   ]
  },
  {
   "cell_type": "code",
   "execution_count": 102,
   "metadata": {
    "scrolled": true
   },
   "outputs": [
    {
     "data": {
      "text/plain": [
       "[8,\n",
       " 4,\n",
       " 7,\n",
       " 11,\n",
       " 7,\n",
       " 4,\n",
       " 3,\n",
       " 7,\n",
       " 4,\n",
       " 3,\n",
       " 8,\n",
       " 4,\n",
       " 11,\n",
       " 4,\n",
       " 3,\n",
       " 11,\n",
       " 11,\n",
       " 4,\n",
       " 0,\n",
       " 11,\n",
       " 11,\n",
       " 4,\n",
       " 4,\n",
       " 7,\n",
       " 4,\n",
       " 7,\n",
       " 4,\n",
       " 11,\n",
       " 7,\n",
       " 0,\n",
       " 3,\n",
       " 3,\n",
       " 4,\n",
       " 7,\n",
       " 11,\n",
       " 4,\n",
       " 4,\n",
       " 0,\n",
       " 4,\n",
       " 11,\n",
       " 7,\n",
       " 7,\n",
       " 4,\n",
       " 4,\n",
       " 4,\n",
       " 0,\n",
       " 11,\n",
       " 11,\n",
       " 4,\n",
       " 4,\n",
       " 4,\n",
       " 11,\n",
       " 4,\n",
       " 7,\n",
       " 11,\n",
       " 0,\n",
       " 4,\n",
       " 3,\n",
       " 0,\n",
       " 4,\n",
       " 0,\n",
       " 7,\n",
       " 0,\n",
       " 4,\n",
       " 4,\n",
       " 4,\n",
       " 4,\n",
       " 11,\n",
       " 3,\n",
       " 3,\n",
       " 0,\n",
       " 4,\n",
       " 4,\n",
       " 7,\n",
       " 0,\n",
       " 7,\n",
       " 4,\n",
       " 0,\n",
       " 8,\n",
       " 4,\n",
       " 7,\n",
       " 0,\n",
       " 8,\n",
       " 11,\n",
       " 7,\n",
       " 3,\n",
       " 7,\n",
       " 3,\n",
       " 4,\n",
       " 4,\n",
       " 11,\n",
       " 3,\n",
       " 0,\n",
       " 11,\n",
       " 4,\n",
       " 4,\n",
       " 11,\n",
       " 3,\n",
       " 11,\n",
       " 4,\n",
       " 4,\n",
       " 4,\n",
       " 4,\n",
       " 4,\n",
       " 4,\n",
       " 0,\n",
       " 3,\n",
       " 4,\n",
       " 3,\n",
       " 0,\n",
       " 11,\n",
       " 4,\n",
       " 8,\n",
       " 4,\n",
       " 4,\n",
       " 4,\n",
       " 7,\n",
       " 7,\n",
       " 4,\n",
       " 4,\n",
       " 7,\n",
       " 4,\n",
       " 11,\n",
       " 11,\n",
       " 7,\n",
       " 4,\n",
       " 4,\n",
       " 11,\n",
       " 4,\n",
       " 0,\n",
       " 8,\n",
       " 4,\n",
       " 4,\n",
       " 3,\n",
       " 4,\n",
       " 4,\n",
       " 11,\n",
       " 4,\n",
       " 4,\n",
       " 7,\n",
       " 3,\n",
       " 4,\n",
       " 0,\n",
       " 4,\n",
       " 0,\n",
       " 4,\n",
       " 4,\n",
       " 7,\n",
       " 0,\n",
       " 11,\n",
       " 4,\n",
       " 7,\n",
       " 11,\n",
       " 11,\n",
       " 7,\n",
       " 4,\n",
       " 7,\n",
       " 3,\n",
       " 4,\n",
       " 7,\n",
       " 8,\n",
       " 4,\n",
       " 4,\n",
       " 8,\n",
       " 8,\n",
       " 4,\n",
       " 4,\n",
       " 7,\n",
       " 3,\n",
       " 4,\n",
       " 3,\n",
       " 4,\n",
       " 11,\n",
       " 4,\n",
       " 4,\n",
       " 4,\n",
       " 11,\n",
       " 3,\n",
       " 7,\n",
       " 4,\n",
       " 7,\n",
       " 8,\n",
       " 4,\n",
       " 4,\n",
       " 0,\n",
       " 3,\n",
       " 11,\n",
       " 11,\n",
       " 4,\n",
       " 7,\n",
       " 11,\n",
       " 3,\n",
       " 11,\n",
       " 4,\n",
       " 4,\n",
       " 4,\n",
       " 4,\n",
       " 3,\n",
       " 7,\n",
       " 11,\n",
       " 4,\n",
       " 11,\n",
       " 11,\n",
       " 11,\n",
       " 0,\n",
       " 4,\n",
       " 11,\n",
       " 4,\n",
       " 4,\n",
       " 3,\n",
       " 11,\n",
       " 7,\n",
       " 4,\n",
       " 3,\n",
       " 4,\n",
       " 7,\n",
       " 7,\n",
       " 4,\n",
       " 4,\n",
       " 4,\n",
       " 0,\n",
       " 4,\n",
       " 11,\n",
       " 4,\n",
       " 7,\n",
       " 4,\n",
       " 0,\n",
       " 3,\n",
       " 4,\n",
       " 4,\n",
       " 4,\n",
       " 7,\n",
       " 11,\n",
       " 7,\n",
       " 4,\n",
       " 4,\n",
       " 4,\n",
       " 4,\n",
       " 0,\n",
       " 8,\n",
       " 4,\n",
       " 4,\n",
       " 11,\n",
       " 7,\n",
       " 11,\n",
       " 4,\n",
       " 11,\n",
       " 4,\n",
       " 4,\n",
       " 11,\n",
       " 7,\n",
       " 4,\n",
       " 7,\n",
       " 0,\n",
       " 11,\n",
       " 4,\n",
       " 0,\n",
       " 11,\n",
       " 4,\n",
       " 0,\n",
       " 11,\n",
       " 4,\n",
       " 4,\n",
       " 8,\n",
       " 11,\n",
       " 0,\n",
       " 7,\n",
       " 4,\n",
       " 3,\n",
       " 4,\n",
       " 11,\n",
       " 4,\n",
       " 11,\n",
       " 4,\n",
       " 4,\n",
       " 3,\n",
       " 4,\n",
       " 4,\n",
       " 11,\n",
       " 4,\n",
       " 11,\n",
       " 8,\n",
       " 4,\n",
       " 7,\n",
       " 4,\n",
       " 4,\n",
       " 4,\n",
       " 4,\n",
       " 7,\n",
       " 4,\n",
       " 4,\n",
       " 11,\n",
       " 4,\n",
       " 4,\n",
       " 4,\n",
       " 11,\n",
       " 4,\n",
       " 4,\n",
       " 4,\n",
       " 4,\n",
       " 0,\n",
       " 3,\n",
       " 11,\n",
       " 11,\n",
       " 4,\n",
       " 0,\n",
       " 7,\n",
       " 4,\n",
       " 11,\n",
       " 11,\n",
       " 4,\n",
       " 11,\n",
       " 4,\n",
       " 0,\n",
       " 11,\n",
       " 4,\n",
       " 4,\n",
       " 11,\n",
       " 3,\n",
       " 4,\n",
       " 4,\n",
       " 4,\n",
       " 11,\n",
       " 4,\n",
       " 8,\n",
       " 0,\n",
       " 8,\n",
       " 4,\n",
       " 8,\n",
       " 0,\n",
       " 4,\n",
       " 4,\n",
       " 4,\n",
       " 4,\n",
       " 8,\n",
       " 4,\n",
       " 4,\n",
       " 4,\n",
       " 4,\n",
       " 11,\n",
       " 4,\n",
       " 4,\n",
       " 4,\n",
       " 7,\n",
       " 4,\n",
       " 8,\n",
       " 3,\n",
       " 7,\n",
       " 7,\n",
       " 3,\n",
       " 11,\n",
       " 7,\n",
       " 11,\n",
       " 4,\n",
       " 3,\n",
       " 11,\n",
       " 3,\n",
       " 7,\n",
       " 4,\n",
       " 11,\n",
       " 8,\n",
       " 7,\n",
       " 4,\n",
       " 4,\n",
       " 7,\n",
       " 3,\n",
       " 3,\n",
       " 4,\n",
       " 0,\n",
       " 4,\n",
       " 4,\n",
       " 4,\n",
       " 0,\n",
       " 3,\n",
       " 11,\n",
       " 3,\n",
       " 4,\n",
       " 4,\n",
       " 4,\n",
       " 8,\n",
       " 4,\n",
       " 4,\n",
       " 11,\n",
       " 4,\n",
       " 4,\n",
       " 4,\n",
       " 4,\n",
       " 7,\n",
       " 11,\n",
       " 8,\n",
       " 4,\n",
       " 4,\n",
       " 4,\n",
       " 0,\n",
       " 3,\n",
       " 4,\n",
       " 11,\n",
       " 7,\n",
       " 4,\n",
       " 7,\n",
       " 7,\n",
       " 4,\n",
       " 4,\n",
       " 11,\n",
       " 0,\n",
       " 3,\n",
       " 4,\n",
       " 11,\n",
       " 4,\n",
       " 4,\n",
       " 4,\n",
       " 3,\n",
       " 11,\n",
       " 4,\n",
       " 3,\n",
       " 4,\n",
       " 3,\n",
       " 4,\n",
       " 4,\n",
       " 4,\n",
       " 4,\n",
       " 11,\n",
       " 11,\n",
       " 4,\n",
       " 7,\n",
       " 7,\n",
       " 3,\n",
       " 11,\n",
       " 7,\n",
       " 4,\n",
       " 11,\n",
       " 7,\n",
       " 3,\n",
       " 7,\n",
       " 4,\n",
       " 4,\n",
       " 4,\n",
       " 7,\n",
       " 11,\n",
       " 8,\n",
       " 4,\n",
       " 4,\n",
       " 7,\n",
       " 0,\n",
       " 4,\n",
       " 0,\n",
       " 4,\n",
       " 11,\n",
       " 4,\n",
       " 4,\n",
       " 11,\n",
       " 0,\n",
       " 11,\n",
       " 4,\n",
       " 4,\n",
       " 7,\n",
       " 7,\n",
       " 4,\n",
       " 3,\n",
       " 4,\n",
       " 11,\n",
       " 4,\n",
       " 11,\n",
       " 3,\n",
       " 3,\n",
       " 11,\n",
       " 4,\n",
       " 4,\n",
       " 4,\n",
       " 4,\n",
       " 4,\n",
       " 11,\n",
       " 4,\n",
       " 4,\n",
       " 4,\n",
       " 4,\n",
       " 4,\n",
       " 4,\n",
       " 4,\n",
       " 0,\n",
       " 4,\n",
       " 8,\n",
       " 7,\n",
       " 11,\n",
       " 4,\n",
       " 4,\n",
       " 11,\n",
       " 4,\n",
       " 0,\n",
       " 3,\n",
       " 7,\n",
       " 4,\n",
       " 4,\n",
       " 4,\n",
       " 4,\n",
       " 4,\n",
       " 0,\n",
       " 11,\n",
       " 4,\n",
       " 4,\n",
       " 8,\n",
       " 3,\n",
       " 11,\n",
       " 7,\n",
       " 11,\n",
       " 11,\n",
       " 3,\n",
       " 4,\n",
       " 0,\n",
       " 7,\n",
       " 11,\n",
       " 11,\n",
       " 8,\n",
       " 0,\n",
       " 7,\n",
       " 4,\n",
       " 4,\n",
       " 4,\n",
       " 4,\n",
       " 4,\n",
       " 0,\n",
       " 4,\n",
       " 4,\n",
       " 4,\n",
       " 4,\n",
       " 11,\n",
       " 3,\n",
       " 4,\n",
       " 0,\n",
       " 3,\n",
       " 8,\n",
       " 4,\n",
       " 11,\n",
       " 11,\n",
       " 8,\n",
       " 11,\n",
       " 4,\n",
       " 8,\n",
       " 4,\n",
       " 4,\n",
       " 4,\n",
       " 8,\n",
       " 11,\n",
       " 0,\n",
       " 8,\n",
       " 4,\n",
       " 0,\n",
       " 11,\n",
       " 0,\n",
       " 4,\n",
       " 4,\n",
       " 4,\n",
       " 7,\n",
       " 4,\n",
       " 7,\n",
       " 7,\n",
       " 4,\n",
       " 4,\n",
       " 3,\n",
       " 7,\n",
       " 7,\n",
       " 11,\n",
       " 4,\n",
       " 11,\n",
       " 4,\n",
       " 4,\n",
       " 0,\n",
       " 4,\n",
       " 11,\n",
       " 11,\n",
       " 4,\n",
       " 4,\n",
       " 4,\n",
       " 4,\n",
       " 4,\n",
       " 4,\n",
       " 4,\n",
       " 7,\n",
       " 4,\n",
       " 11,\n",
       " 11,\n",
       " 11,\n",
       " 3,\n",
       " 4,\n",
       " 11,\n",
       " 0,\n",
       " 4,\n",
       " 4,\n",
       " 4,\n",
       " 7,\n",
       " 4,\n",
       " 4,\n",
       " 4,\n",
       " 4,\n",
       " 4,\n",
       " 11,\n",
       " 7,\n",
       " 11,\n",
       " 4,\n",
       " 11,\n",
       " 7,\n",
       " 3,\n",
       " 4,\n",
       " 11,\n",
       " 4,\n",
       " 11,\n",
       " 4,\n",
       " 7,\n",
       " 11,\n",
       " 3,\n",
       " 4,\n",
       " 0,\n",
       " 4,\n",
       " 7,\n",
       " 8,\n",
       " 11,\n",
       " 4,\n",
       " 0,\n",
       " 3,\n",
       " 11,\n",
       " 4,\n",
       " 7,\n",
       " 0]"
      ]
     },
     "execution_count": 102,
     "metadata": {},
     "output_type": "execute_result"
    }
   ],
   "source": [
    "m"
   ]
  },
  {
   "cell_type": "code",
   "execution_count": 87,
   "metadata": {},
   "outputs": [],
   "source": [
    "list_a = y_pred.tolist()"
   ]
  },
  {
   "cell_type": "code",
   "execution_count": 88,
   "metadata": {},
   "outputs": [],
   "source": [
    "\n",
    "list_a_max_list = max(list_a) #返回最大值\n",
    "max_index = list_a.index(max(list_a))"
   ]
  },
  {
   "cell_type": "code",
   "execution_count": 89,
   "metadata": {},
   "outputs": [
    {
     "data": {
      "text/plain": [
       "325"
      ]
     },
     "execution_count": 89,
     "metadata": {},
     "output_type": "execute_result"
    }
   ],
   "source": [
    "max_index"
   ]
  },
  {
   "cell_type": "code",
   "execution_count": 49,
   "metadata": {},
   "outputs": [
    {
     "data": {
      "text/plain": [
       "array([2.1423277e-02, 4.1262590e-20, 1.2080349e-12, 4.6469583e-04,\n",
       "       1.2793385e-03, 1.4424303e-22, 6.0724339e-04, 3.2650447e-01,\n",
       "       7.4708797e-03, 9.3728904e-06, 3.1754793e-11, 2.1225914e-02],\n",
       "      dtype=float32)"
      ]
     },
     "execution_count": 49,
     "metadata": {},
     "output_type": "execute_result"
    }
   ],
   "source": [
    "y_pred[2]"
   ]
  },
  {
   "cell_type": "code",
   "execution_count": 50,
   "metadata": {},
   "outputs": [
    {
     "data": {
      "text/plain": [
       "0.32650447"
      ]
     },
     "execution_count": 50,
     "metadata": {},
     "output_type": "execute_result"
    }
   ],
   "source": [
    "max(y_pred[2])"
   ]
  },
  {
   "cell_type": "code",
   "execution_count": 99,
   "metadata": {},
   "outputs": [],
   "source": [
    "q = y_test.tolist()"
   ]
  },
  {
   "cell_type": "code",
   "execution_count": 100,
   "metadata": {
    "scrolled": true
   },
   "outputs": [
    {
     "data": {
      "text/plain": [
       "[8,\n",
       " 10,\n",
       " 7,\n",
       " 8,\n",
       " 0,\n",
       " 9,\n",
       " 6,\n",
       " 7,\n",
       " 2,\n",
       " 2,\n",
       " 8,\n",
       " 9,\n",
       " 5,\n",
       " 4,\n",
       " 3,\n",
       " 11,\n",
       " 8,\n",
       " 1,\n",
       " 7,\n",
       " 8,\n",
       " 5,\n",
       " 4,\n",
       " 4,\n",
       " 7,\n",
       " 4,\n",
       " 0,\n",
       " 5,\n",
       " 10,\n",
       " 9,\n",
       " 0,\n",
       " 2,\n",
       " 6,\n",
       " 9,\n",
       " 7,\n",
       " 5,\n",
       " 1,\n",
       " 1,\n",
       " 7,\n",
       " 5,\n",
       " 8,\n",
       " 0,\n",
       " 7,\n",
       " 5,\n",
       " 9,\n",
       " 4,\n",
       " 7,\n",
       " 9,\n",
       " 11,\n",
       " 2,\n",
       " 4,\n",
       " 6,\n",
       " 11,\n",
       " 10,\n",
       " 9,\n",
       " 11,\n",
       " 7,\n",
       " 4,\n",
       " 6,\n",
       " 0,\n",
       " 5,\n",
       " 0,\n",
       " 0,\n",
       " 0,\n",
       " 5,\n",
       " 5,\n",
       " 5,\n",
       " 1,\n",
       " 11,\n",
       " 3,\n",
       " 3,\n",
       " 0,\n",
       " 6,\n",
       " 1,\n",
       " 9,\n",
       " 7,\n",
       " 7,\n",
       " 5,\n",
       " 0,\n",
       " 8,\n",
       " 4,\n",
       " 9,\n",
       " 0,\n",
       " 8,\n",
       " 9,\n",
       " 7,\n",
       " 6,\n",
       " 9,\n",
       " 6,\n",
       " 5,\n",
       " 9,\n",
       " 11,\n",
       " 6,\n",
       " 0,\n",
       " 9,\n",
       " 4,\n",
       " 1,\n",
       " 9,\n",
       " 2,\n",
       " 11,\n",
       " 4,\n",
       " 4,\n",
       " 2,\n",
       " 4,\n",
       " 1,\n",
       " 2,\n",
       " 0,\n",
       " 3,\n",
       " 4,\n",
       " 6,\n",
       " 0,\n",
       " 11,\n",
       " 5,\n",
       " 8,\n",
       " 5,\n",
       " 6,\n",
       " 5,\n",
       " 7,\n",
       " 9,\n",
       " 5,\n",
       " 1,\n",
       " 0,\n",
       " 2,\n",
       " 11,\n",
       " 11,\n",
       " 9,\n",
       " 5,\n",
       " 1,\n",
       " 8,\n",
       " 5,\n",
       " 0,\n",
       " 8,\n",
       " 9,\n",
       " 5,\n",
       " 3,\n",
       " 9,\n",
       " 10,\n",
       " 11,\n",
       " 5,\n",
       " 5,\n",
       " 7,\n",
       " 6,\n",
       " 4,\n",
       " 0,\n",
       " 1,\n",
       " 7,\n",
       " 1,\n",
       " 1,\n",
       " 7,\n",
       " 7,\n",
       " 11,\n",
       " 10,\n",
       " 9,\n",
       " 5,\n",
       " 11,\n",
       " 7,\n",
       " 4,\n",
       " 7,\n",
       " 3,\n",
       " 10,\n",
       " 7,\n",
       " 8,\n",
       " 1,\n",
       " 5,\n",
       " 8,\n",
       " 8,\n",
       " 2,\n",
       " 10,\n",
       " 7,\n",
       " 3,\n",
       " 5,\n",
       " 3,\n",
       " 5,\n",
       " 11,\n",
       " 4,\n",
       " 5,\n",
       " 1,\n",
       " 8,\n",
       " 6,\n",
       " 7,\n",
       " 2,\n",
       " 7,\n",
       " 8,\n",
       " 9,\n",
       " 4,\n",
       " 7,\n",
       " 2,\n",
       " 11,\n",
       " 5,\n",
       " 1,\n",
       " 7,\n",
       " 11,\n",
       " 6,\n",
       " 8,\n",
       " 4,\n",
       " 5,\n",
       " 5,\n",
       " 5,\n",
       " 3,\n",
       " 7,\n",
       " 11,\n",
       " 1,\n",
       " 1,\n",
       " 5,\n",
       " 5,\n",
       " 0,\n",
       " 4,\n",
       " 11,\n",
       " 5,\n",
       " 1,\n",
       " 3,\n",
       " 5,\n",
       " 7,\n",
       " 4,\n",
       " 2,\n",
       " 10,\n",
       " 0,\n",
       " 0,\n",
       " 10,\n",
       " 5,\n",
       " 10,\n",
       " 7,\n",
       " 4,\n",
       " 11,\n",
       " 1,\n",
       " 7,\n",
       " 4,\n",
       " 0,\n",
       " 3,\n",
       " 1,\n",
       " 10,\n",
       " 5,\n",
       " 7,\n",
       " 5,\n",
       " 9,\n",
       " 4,\n",
       " 4,\n",
       " 4,\n",
       " 1,\n",
       " 0,\n",
       " 8,\n",
       " 5,\n",
       " 2,\n",
       " 5,\n",
       " 7,\n",
       " 11,\n",
       " 10,\n",
       " 11,\n",
       " 4,\n",
       " 4,\n",
       " 8,\n",
       " 9,\n",
       " 2,\n",
       " 9,\n",
       " 0,\n",
       " 11,\n",
       " 5,\n",
       " 7,\n",
       " 11,\n",
       " 4,\n",
       " 7,\n",
       " 9,\n",
       " 6,\n",
       " 4,\n",
       " 8,\n",
       " 9,\n",
       " 0,\n",
       " 0,\n",
       " 1,\n",
       " 3,\n",
       " 5,\n",
       " 11,\n",
       " 10,\n",
       " 5,\n",
       " 1,\n",
       " 5,\n",
       " 3,\n",
       " 10,\n",
       " 4,\n",
       " 11,\n",
       " 2,\n",
       " 11,\n",
       " 8,\n",
       " 4,\n",
       " 0,\n",
       " 10,\n",
       " 4,\n",
       " 6,\n",
       " 5,\n",
       " 9,\n",
       " 4,\n",
       " 4,\n",
       " 5,\n",
       " 10,\n",
       " 5,\n",
       " 1,\n",
       " 9,\n",
       " 2,\n",
       " 1,\n",
       " 9,\n",
       " 5,\n",
       " 7,\n",
       " 6,\n",
       " 11,\n",
       " 8,\n",
       " 5,\n",
       " 7,\n",
       " 9,\n",
       " 1,\n",
       " 0,\n",
       " 11,\n",
       " 5,\n",
       " 5,\n",
       " 2,\n",
       " 7,\n",
       " 11,\n",
       " 5,\n",
       " 10,\n",
       " 11,\n",
       " 3,\n",
       " 1,\n",
       " 9,\n",
       " 10,\n",
       " 11,\n",
       " 10,\n",
       " 8,\n",
       " 0,\n",
       " 8,\n",
       " 4,\n",
       " 8,\n",
       " 0,\n",
       " 4,\n",
       " 4,\n",
       " 2,\n",
       " 5,\n",
       " 8,\n",
       " 5,\n",
       " 1,\n",
       " 4,\n",
       " 1,\n",
       " 5,\n",
       " 1,\n",
       " 4,\n",
       " 10,\n",
       " 7,\n",
       " 6,\n",
       " 8,\n",
       " 3,\n",
       " 7,\n",
       " 7,\n",
       " 3,\n",
       " 9,\n",
       " 7,\n",
       " 11,\n",
       " 9,\n",
       " 3,\n",
       " 11,\n",
       " 3,\n",
       " 7,\n",
       " 4,\n",
       " 1,\n",
       " 8,\n",
       " 7,\n",
       " 5,\n",
       " 5,\n",
       " 9,\n",
       " 2,\n",
       " 2,\n",
       " 5,\n",
       " 7,\n",
       " 2,\n",
       " 1,\n",
       " 1,\n",
       " 7,\n",
       " 3,\n",
       " 9,\n",
       " 3,\n",
       " 4,\n",
       " 1,\n",
       " 9,\n",
       " 8,\n",
       " 10,\n",
       " 5,\n",
       " 9,\n",
       " 5,\n",
       " 1,\n",
       " 10,\n",
       " 9,\n",
       " 7,\n",
       " 8,\n",
       " 8,\n",
       " 4,\n",
       " 5,\n",
       " 1,\n",
       " 7,\n",
       " 6,\n",
       " 9,\n",
       " 5,\n",
       " 7,\n",
       " 1,\n",
       " 9,\n",
       " 7,\n",
       " 1,\n",
       " 4,\n",
       " 9,\n",
       " 0,\n",
       " 3,\n",
       " 1,\n",
       " 10,\n",
       " 4,\n",
       " 2,\n",
       " 1,\n",
       " 3,\n",
       " 11,\n",
       " 1,\n",
       " 3,\n",
       " 1,\n",
       " 3,\n",
       " 10,\n",
       " 1,\n",
       " 10,\n",
       " 1,\n",
       " 11,\n",
       " 9,\n",
       " 4,\n",
       " 9,\n",
       " 9,\n",
       " 5,\n",
       " 0,\n",
       " 0,\n",
       " 2,\n",
       " 11,\n",
       " 9,\n",
       " 6,\n",
       " 7,\n",
       " 5,\n",
       " 2,\n",
       " 10,\n",
       " 0,\n",
       " 11,\n",
       " 8,\n",
       " 1,\n",
       " 6,\n",
       " 0,\n",
       " 0,\n",
       " 9,\n",
       " 0,\n",
       " 4,\n",
       " 5,\n",
       " 1,\n",
       " 5,\n",
       " 1,\n",
       " 7,\n",
       " 11,\n",
       " 1,\n",
       " 5,\n",
       " 7,\n",
       " 7,\n",
       " 4,\n",
       " 6,\n",
       " 9,\n",
       " 5,\n",
       " 9,\n",
       " 5,\n",
       " 3,\n",
       " 6,\n",
       " 8,\n",
       " 4,\n",
       " 1,\n",
       " 5,\n",
       " 10,\n",
       " 4,\n",
       " 9,\n",
       " 9,\n",
       " 5,\n",
       " 5,\n",
       " 10,\n",
       " 4,\n",
       " 4,\n",
       " 4,\n",
       " 0,\n",
       " 4,\n",
       " 8,\n",
       " 0,\n",
       " 11,\n",
       " 4,\n",
       " 1,\n",
       " 9,\n",
       " 5,\n",
       " 7,\n",
       " 3,\n",
       " 9,\n",
       " 2,\n",
       " 5,\n",
       " 2,\n",
       " 4,\n",
       " 5,\n",
       " 0,\n",
       " 11,\n",
       " 4,\n",
       " 9,\n",
       " 8,\n",
       " 2,\n",
       " 5,\n",
       " 9,\n",
       " 5,\n",
       " 11,\n",
       " 2,\n",
       " 10,\n",
       " 0,\n",
       " 7,\n",
       " 5,\n",
       " 5,\n",
       " 8,\n",
       " 0,\n",
       " 0,\n",
       " 1,\n",
       " 2,\n",
       " 10,\n",
       " 1,\n",
       " 5,\n",
       " 0,\n",
       " 5,\n",
       " 5,\n",
       " 4,\n",
       " 1,\n",
       " 5,\n",
       " 3,\n",
       " 6,\n",
       " 7,\n",
       " 2,\n",
       " 8,\n",
       " 4,\n",
       " 11,\n",
       " 11,\n",
       " 8,\n",
       " 11,\n",
       " 10,\n",
       " 8,\n",
       " 9,\n",
       " 5,\n",
       " 5,\n",
       " 8,\n",
       " 11,\n",
       " 0,\n",
       " 8,\n",
       " 6,\n",
       " 0,\n",
       " 5,\n",
       " 0,\n",
       " 4,\n",
       " 4,\n",
       " 4,\n",
       " 7,\n",
       " 4,\n",
       " 7,\n",
       " 0,\n",
       " 2,\n",
       " 1,\n",
       " 3,\n",
       " 7,\n",
       " 7,\n",
       " 11,\n",
       " 4,\n",
       " 8,\n",
       " 4,\n",
       " 2,\n",
       " 7,\n",
       " 2,\n",
       " 5,\n",
       " 11,\n",
       " 5,\n",
       " 4,\n",
       " 4,\n",
       " 2,\n",
       " 2,\n",
       " 4,\n",
       " 4,\n",
       " 7,\n",
       " 1,\n",
       " 5,\n",
       " 11,\n",
       " 5,\n",
       " 3,\n",
       " 4,\n",
       " 0,\n",
       " 0,\n",
       " 4,\n",
       " 2,\n",
       " 4,\n",
       " 7,\n",
       " 4,\n",
       " 4,\n",
       " 5,\n",
       " 5,\n",
       " 2,\n",
       " 11,\n",
       " 7,\n",
       " 5,\n",
       " 6,\n",
       " 11,\n",
       " 9,\n",
       " 2,\n",
       " 2,\n",
       " 5,\n",
       " 2,\n",
       " 9,\n",
       " 1,\n",
       " 0,\n",
       " 8,\n",
       " 2,\n",
       " 10,\n",
       " 0,\n",
       " 4,\n",
       " 9,\n",
       " 8,\n",
       " 5,\n",
       " 4,\n",
       " 0,\n",
       " 3,\n",
       " 9,\n",
       " 10,\n",
       " 7,\n",
       " 7]"
      ]
     },
     "execution_count": 100,
     "metadata": {},
     "output_type": "execute_result"
    }
   ],
   "source": [
    "q"
   ]
  },
  {
   "cell_type": "code",
   "execution_count": 103,
   "metadata": {},
   "outputs": [
    {
     "name": "stdout",
     "output_type": "stream",
     "text": [
      "Classification report \n",
      "=======================\n",
      "             precision    recall  f1-score   support\n",
      "\n",
      "          0       0.60      0.63      0.62        52\n",
      "          1       0.00      0.00      0.00        56\n",
      "          2       0.00      0.00      0.00        41\n",
      "          3       0.52      1.00      0.68        30\n",
      "          4       0.27      1.00      0.42        75\n",
      "          5       0.00      0.00      0.00        94\n",
      "          6       0.00      0.00      0.00        25\n",
      "          7       0.53      0.66      0.59        65\n",
      "          8       1.00      0.70      0.83        44\n",
      "          9       0.00      0.00      0.00        58\n",
      "         10       0.00      0.00      0.00        33\n",
      "         11       0.43      1.00      0.60        50\n",
      "\n",
      "avg / total       0.27      0.42      0.30       623\n",
      "\n",
      "Confusion matrix \n",
      "=======================\n",
      "[[33  0  0  0  0  0  0 16  0  0  0  3]\n",
      " [ 0  0  0  0 53  0  0  0  0  0  0  3]\n",
      " [ 0  0  0 12 29  0  0  0  0  0  0  0]\n",
      " [ 0  0  0 30  0  0  0  0  0  0  0  0]\n",
      " [ 0  0  0  0 75  0  0  0  0  0  0  0]\n",
      " [ 0  0  0  1 63  0  0  0  0  0  0 30]\n",
      " [ 0  0  0 15 10  0  0  0  0  0  0  0]\n",
      " [22  0  0  0  0  0  0 43  0  0  0  0]\n",
      " [ 0  0  0  0  0  0  0  0 31  0  0 13]\n",
      " [ 0  0  0  0 20  0  0 22  0  0  0 16]\n",
      " [ 0  0  0  0 31  0  0  0  0  0  0  2]\n",
      " [ 0  0  0  0  0  0  0  0  0  0  0 50]]\n"
     ]
    },
    {
     "name": "stderr",
     "output_type": "stream",
     "text": [
      "/Users/xumeng/anaconda3/lib/python3.6/site-packages/sklearn/metrics/classification.py:1135: UndefinedMetricWarning: Precision and F-score are ill-defined and being set to 0.0 in labels with no predicted samples.\n",
      "  'precision', 'predicted', average, warn_for)\n"
     ]
    }
   ],
   "source": [
    "from sklearn.metrics import classification_report,confusion_matrix\n",
    "print(\"Classification report \\n=======================\")\n",
    "print(classification_report(y_true=q, y_pred=m))\n",
    "print(\"Confusion matrix \\n=======================\")\n",
    "print(confusion_matrix(y_true=q, y_pred=m))"
   ]
  },
  {
   "cell_type": "code",
   "execution_count": null,
   "metadata": {},
   "outputs": [],
   "source": [
    "scores = model.evaluate(XTest, yTest)"
   ]
  },
  {
   "cell_type": "code",
   "execution_count": null,
   "metadata": {},
   "outputs": [],
   "source": [
    "print(\"\\n%s: %.2f%%\" % (model.metrics_names[1], scores[1]*100))"
   ]
  },
  {
   "cell_type": "code",
   "execution_count": null,
   "metadata": {},
   "outputs": [],
   "source": [
    "y_pred=model.predict(XTest)"
   ]
  },
  {
   "cell_type": "code",
   "execution_count": null,
   "metadata": {
    "scrolled": true
   },
   "outputs": [],
   "source": [
    "for x in yTest:\n",
    "    print(max(x))"
   ]
  },
  {
   "cell_type": "code",
   "execution_count": null,
   "metadata": {},
   "outputs": [],
   "source": [
    "for x in y_pred:\n",
    "    print(max(x))"
   ]
  },
  {
   "cell_type": "code",
   "execution_count": 73,
   "metadata": {},
   "outputs": [],
   "source": [
    "img = Image.open(\"/Users/xumeng/Desktop/f1.jpg\")"
   ]
  },
  {
   "cell_type": "code",
   "execution_count": 74,
   "metadata": {},
   "outputs": [],
   "source": [
    "test = np.empty((1,480,640),dtype=\"float32\")"
   ]
  },
  {
   "cell_type": "code",
   "execution_count": 75,
   "metadata": {},
   "outputs": [],
   "source": [
    "testx= np.asarray(img,dtype=\"float32\")"
   ]
  },
  {
   "cell_type": "code",
   "execution_count": 76,
   "metadata": {},
   "outputs": [],
   "source": [
    "test[:,:,:]= testx"
   ]
  },
  {
   "cell_type": "code",
   "execution_count": 77,
   "metadata": {},
   "outputs": [
    {
     "data": {
      "text/plain": [
       "<matplotlib.image.AxesImage at 0x2324bf780>"
      ]
     },
     "execution_count": 77,
     "metadata": {},
     "output_type": "execute_result"
    },
    {
     "data": {
      "image/png": "[encoded data removed]",
      "text/plain": [
       "<matplotlib.figure.Figure at 0x27a924fd0>"
      ]
     },
     "metadata": {
      "needs_background": "light"
     },
     "output_type": "display_data"
    }
   ],
   "source": [
    "plt.imshow(testx)"
   ]
  },
  {
   "cell_type": "code",
   "execution_count": 78,
   "metadata": {},
   "outputs": [],
   "source": [
    "num_of_pixels = test.shape[1]*test.shape[2]\n",
    "t = test.reshape(test.shape[0],num_of_pixels).astype('float32')"
   ]
  },
  {
   "cell_type": "code",
   "execution_count": 79,
   "metadata": {},
   "outputs": [
    {
     "data": {
      "text/plain": [
       "(1, 307200)"
      ]
     },
     "execution_count": 79,
     "metadata": {},
     "output_type": "execute_result"
    }
   ],
   "source": [
    "t.shape"
   ]
  },
  {
   "cell_type": "code",
   "execution_count": 80,
   "metadata": {},
   "outputs": [],
   "source": [
    "t = (t-np.min(t))/(np.max(t)-np.min(t))"
   ]
  },
  {
   "cell_type": "code",
   "execution_count": 81,
   "metadata": {},
   "outputs": [],
   "source": [
    "predictions = model.predict(t)"
   ]
  },
  {
   "cell_type": "code",
   "execution_count": 82,
   "metadata": {},
   "outputs": [
    {
     "data": {
      "text/plain": [
       "array([[8.19382906e-01, 1.04896594e-13, 8.12262435e-09, 1.03321746e-02,\n",
       "        4.16515255e-03, 6.94179965e-15, 2.52364622e-03, 3.96134824e-01,\n",
       "        2.21525114e-02, 4.51187552e-05, 4.86213594e-08, 6.56601489e-01]],\n",
       "      dtype=float32)"
      ]
     },
     "execution_count": 82,
     "metadata": {},
     "output_type": "execute_result"
    }
   ],
   "source": [
    "predictions"
   ]
  },
  {
   "cell_type": "code",
   "execution_count": 83,
   "metadata": {},
   "outputs": [
    {
     "name": "stdout",
     "output_type": "stream",
     "text": [
      "0.8193829\n"
     ]
    }
   ],
   "source": [
    "for x in predictions:\n",
    "    print(max(x))"
   ]
  },
  {
   "cell_type": "code",
   "execution_count": 84,
   "metadata": {},
   "outputs": [],
   "source": [
    "ynew = model.predict_proba(t)"
   ]
  },
  {
   "cell_type": "code",
   "execution_count": 85,
   "metadata": {},
   "outputs": [
    {
     "name": "stdout",
     "output_type": "stream",
     "text": [
      "0.8193829\n"
     ]
    }
   ],
   "source": [
    "for x in ynew:\n",
    "    print(max(x))"
   ]
  },
  {
   "cell_type": "code",
   "execution_count": null,
   "metadata": {},
   "outputs": [],
   "source": []
  },
  {
   "cell_type": "code",
   "execution_count": null,
   "metadata": {},
   "outputs": [],
   "source": []
  }
 ],
 "metadata": {
  "kernelspec": {
   "display_name": "Python 3",
   "language": "python",
   "name": "python3"
  },
  "language_info": {
   "codemirror_mode": {
    "name": "ipython",
    "version": 3
   },
   "file_extension": ".py",
   "mimetype": "text/x-python",
   "name": "python",
   "nbconvert_exporter": "python",
   "pygments_lexer": "ipython3",
   "version": "3.6.4"
  }
 },
 "nbformat": 4,
 "nbformat_minor": 2
}
